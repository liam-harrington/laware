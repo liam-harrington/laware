{
 "cells": [
  {
   "cell_type": "code",
   "execution_count": 1,
   "id": "308e9b83-d271-4447-b6fd-7bb117287e4a",
   "metadata": {},
   "outputs": [],
   "source": [
    "from lib.introduce import Introduce\n",
    "\n",
    "i = Introduce()"
   ]
  },
  {
   "cell_type": "code",
   "execution_count": 2,
   "id": "f7e588d1-ae7d-48f4-aae5-0342ec6a18e8",
   "metadata": {},
   "outputs": [],
   "source": [
    "person2 = Introduce()"
   ]
  },
  {
   "cell_type": "code",
   "execution_count": 3,
   "id": "b9fa9de7-03bb-4c38-973f-3b5f710dc842",
   "metadata": {},
   "outputs": [],
   "source": [
    "dir(i.existence)\n",
    "\n",
    "i.existence.aware.of(\"sample\")\n",
    "\n",
    "from lib.mind.injector import Injector\n",
    "i.existence.sample = Injector(i.existence, person2, [1, 1, 1])"
   ]
  },
  {
   "cell_type": "code",
   "execution_count": 4,
   "id": "f17ceeb1-aae5-48b6-9ac3-e78a1c87c3e1",
   "metadata": {},
   "outputs": [
    {
     "data": {
      "text/plain": [
       "0.5"
      ]
     },
     "execution_count": 4,
     "metadata": {},
     "output_type": "execute_result"
    }
   ],
   "source": [
    "i.existence.aware.occupation.calculate()"
   ]
  }
 ],
 "metadata": {
  "kernelspec": {
   "display_name": "Python 3 (ipykernel)",
   "language": "python",
   "name": "python3"
  },
  "language_info": {
   "codemirror_mode": {
    "name": "ipython",
    "version": 3
   },
   "file_extension": ".py",
   "mimetype": "text/x-python",
   "name": "python",
   "nbconvert_exporter": "python",
   "pygments_lexer": "ipython3",
   "version": "3.12.3"
  }
 },
 "nbformat": 4,
 "nbformat_minor": 5
}
